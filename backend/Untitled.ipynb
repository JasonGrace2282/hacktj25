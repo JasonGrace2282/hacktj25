{
 "cells": [
  {
   "cell_type": "code",
   "execution_count": 2,
   "id": "36619a25-4cda-4a30-9951-0b788109470f",
   "metadata": {},
   "outputs": [],
   "source": [
    "import os\n",
    "import tempfile\n",
    "from collections.abc import Iterator\n",
    "\n",
    "from textblob import TextBlob\n",
    "import whisper\n",
    "import moviepy\n",
    "import yt_dlp\n",
    "import easyocr\n",
    "import cv2"
   ]
  },
  {
   "cell_type": "code",
   "execution_count": 7,
   "id": "9e17f904-2037-48da-b9e6-4d7fd6f7e97a",
   "metadata": {},
   "outputs": [
    {
     "name": "stdout",
     "output_type": "stream",
     "text": [
      "[TikTok] Extracting URL: https://www.tiktok.com/@mariathedental/video/7457433586333912350\n",
      "[TikTok] 7457433586333912350: Downloading webpage\n",
      "[info] 7457433586333912350: Downloading 1 format(s): bytevc1_1080p_401092-1\n",
      "[download] I am never ready for that 🤭😂 #dentalassistant #dentalstudent #fypage  [7457433586333912350].mp4 has already been downloaded\n",
      "[download] 100% of  295.53KiB\n",
      "[TikTok] Extracting URL: https://www.tiktok.com/@mariathedental/video/7457433586333912350\n",
      "[TikTok] 7457433586333912350: Downloading webpage\n",
      "[info] 7457433586333912350: Downloading 1 format(s): bytevc1_1080p_401092-1\n",
      "[download] /var/folders/dx/4f47_cs16kd81vc78pwzspkw0000gn/T/7457433586333912350.mp4 has already been downloaded\n",
      "[download] 100% of  295.53KiB\n",
      "{'video_found': True, 'audio_found': True, 'metadata': {'major_brand': 'isom', 'minor_version': '512', 'compatible_brands': 'isomiso2mp41', 'comment': 'vid:v15044gf0000ctv204nog65ovf1hmmag', 'aigc_info': '{\"aigc_label_type\":0}', 'vid_md5': '65d4b4f5ccdf92cd6d557d550634eaf9', 'encoder': 'Lavf58.76.100'}, 'inputs': [{'streams': [{'input_number': 0, 'stream_number': 0, 'stream_type': 'video', 'language': None, 'default': True, 'size': [1080, 1920], 'bitrate': 326, 'fps': 30.0, 'codec_name': 'hevc', 'profile': '(Main)', 'metadata': {'Metadata': '', 'handler_name': 'VideoHandler', 'vendor_id': '[0][0][0][0]'}}, {'input_number': 0, 'stream_number': 1, 'stream_type': 'audio', 'language': None, 'default': True, 'fps': 44100, 'bitrate': 65, 'metadata': {'Metadata': '', 'handler_name': 'SoundHandler', 'vendor_id': '[0][0][0][0]'}}], 'input_number': 0}], 'duration': 6.04, 'bitrate': 401, 'start': 0.0, 'default_video_input_number': 0, 'default_video_stream_number': 0, 'video_codec_name': 'hevc', 'video_profile': '(Main)', 'video_size': [1080, 1920], 'video_bitrate': 326, 'video_fps': 30.0, 'default_audio_input_number': 0, 'default_audio_stream_number': 1, 'audio_fps': 44100, 'audio_bitrate': 65, 'video_duration': 6.04, 'video_n_frames': 181}\n",
      "/Users/rithvikr/projects/hacktj25/backend/.venv/lib/python3.13/site-packages/imageio_ffmpeg/binaries/ffmpeg-macos-aarch64-v7.1 -i /var/folders/dx/4f47_cs16kd81vc78pwzspkw0000gn/T/7457433586333912350.mp4 -loglevel error -f image2pipe -vf scale=1080:1920 -sws_flags bicubic -pix_fmt rgb24 -vcodec rawvideo -\n",
      "MoviePy - Writing audio in /var/folders/dx/4f47_cs16kd81vc78pwzspkw0000gn/T/7457433586333912350.wav\n"
     ]
    },
    {
     "name": "stderr",
     "output_type": "stream",
     "text": [
      "                                                                                 "
     ]
    },
    {
     "name": "stdout",
     "output_type": "stream",
     "text": [
      "MoviePy - Done.\n"
     ]
    },
    {
     "name": "stderr",
     "output_type": "stream",
     "text": [
      "/Users/rithvikr/projects/hacktj25/backend/.venv/lib/python3.13/site-packages/whisper/transcribe.py:132: UserWarning: FP16 is not supported on CPU; using FP32 instead\n",
      "  warnings.warn(\"FP16 is not supported on CPU; using FP32 instead\")\n"
     ]
    }
   ],
   "source": [
    "        audio_text = None\n",
    "        video_text = {}\n",
    "\n",
    "        # Initialize whisper model when needed\n",
    "        audio_model = whisper.load_model(\"base\")\n",
    "\n",
    "        video_id = yt_dlp.YoutubeDL().extract_info(\"https://www.tiktok.com/@mariathedental/video/7457433586333912350\")[\"id\"]\n",
    "        temp_video = os.path.join(tempfile.gettempdir(), \"7457433586333912350\") + \".mp4\"\n",
    "\n",
    "        with yt_dlp.YoutubeDL({\"outtmpl\": temp_video}) as ydl:\n",
    "            ydl.extract_info(\"https://www.tiktok.com/@mariathedental/video/7457433586333912350\", download=True)\n",
    "\n",
    "        encoded_video = moviepy.VideoFileClip(temp_video)\n",
    "        temp_audio = os.path.join(tempfile.gettempdir(), \"7457433586333912350\") + \".wav\"\n",
    "        encoded_video.audio.write_audiofile(temp_audio)\n",
    "\n",
    "        transcribed_audio = audio_model.transcribe(temp_audio)\n",
    "\n"
   ]
  },
  {
   "cell_type": "code",
   "execution_count": 11,
   "id": "d0f63e42-2cd7-49d3-bb4e-82bb81a153ed",
   "metadata": {},
   "outputs": [
    {
     "name": "stdout",
     "output_type": "stream",
     "text": [
      "[{'id': 0, 'seek': 0, 'start': 0.0, 'end': 2.0, 'text': ' You know I get my pen.', 'tokens': [50364, 509, 458, 286, 483, 452, 3435, 13, 50464], 'temperature': 0.0, 'avg_logprob': -0.6776693889072963, 'compression_ratio': 1.5238095238095237, 'no_speech_prob': 0.5075304508209229}, {'id': 1, 'seek': 0, 'start': 2.72, 'end': 3.22, 'text': ' Wait.', 'tokens': [50500, 3802, 13, 50525], 'temperature': 0.0, 'avg_logprob': -0.6776693889072963, 'compression_ratio': 1.5238095238095237, 'no_speech_prob': 0.5075304508209229}, {'id': 2, 'seek': 0, 'start': 4.48, 'end': 6.0, 'text': ' Wait, wait, wait, wait, wait, wait.', 'tokens': [50588, 3802, 11, 1699, 11, 1699, 11, 1699, 11, 1699, 11, 1699, 13, 50664], 'temperature': 0.0, 'avg_logprob': -0.6776693889072963, 'compression_ratio': 1.5238095238095237, 'no_speech_prob': 0.5075304508209229}]\n"
     ]
    }
   ],
   "source": [
    "print(transcribed_audio[\"segments\"])"
   ]
  },
  {
   "cell_type": "code",
   "execution_count": null,
   "id": "06bd75c6-f01b-4326-abf4-85043608264c",
   "metadata": {},
   "outputs": [],
   "source": [
    "["
   ]
  }
 ],
 "metadata": {
  "kernelspec": {
   "display_name": "Python 3 (ipykernel)",
   "language": "python",
   "name": "python3"
  },
  "language_info": {
   "codemirror_mode": {
    "name": "ipython",
    "version": 3
   },
   "file_extension": ".py",
   "mimetype": "text/x-python",
   "name": "python",
   "nbconvert_exporter": "python",
   "pygments_lexer": "ipython3",
   "version": "3.13.2"
  }
 },
 "nbformat": 4,
 "nbformat_minor": 5
}
